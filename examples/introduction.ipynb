{
 "cells": [
  {
   "cell_type": "code",
   "execution_count": 2,
   "metadata": {},
   "outputs": [],
   "source": [
    "import lineup_widget\n",
    "import numpy as np\n",
    "import pandas as pd"
   ]
  },
  {
   "cell_type": "code",
   "execution_count": 3,
   "metadata": {},
   "outputs": [],
   "source": [
    "df = pd.DataFrame(np.random.randint(0,100,size=(100, 4)), columns=list('ABCD'))"
   ]
  },
  {
   "cell_type": "code",
   "execution_count": 4,
   "metadata": {},
   "outputs": [
    {
     "data": {
      "application/vnd.jupyter.widget-view+json": {
       "model_id": "70e4f62624c647cd8be82069467240d5",
       "version_major": 2,
       "version_minor": 0
      },
      "text/plain": [
       "LineUpWidget(value=[], layout=Layout(align_self='stretch', height='400px'), options={'filterGlobally': True, '…"
      ]
     },
     "metadata": {},
     "output_type": "display_data"
    }
   ],
   "source": [
    "w = lineup_widget.LineUpWidget(df)\n",
    "w.on_selection_changed(lambda selection: print(selection))\n",
    "w"
   ]
  },
  {
   "cell_type": "code",
   "execution_count": 5,
   "metadata": {},
   "outputs": [
    {
     "data": {
      "application/vnd.jupyter.widget-view+json": {
       "model_id": "46d038413d424664a4d36391739518df",
       "version_major": 2,
       "version_minor": 0
      },
      "text/plain": [
       "interactive(children=(LineUpWidget(value=[], description='selection', layout=Layout(align_self='stretch', heig…"
      ]
     },
     "metadata": {},
     "output_type": "display_data"
    }
   ],
   "source": [
    "from __future__ import print_function\n",
    "from ipywidgets import interact, interactive, interact_manual\n",
    "\n",
    "def f(selection):\n",
    "    return df.iloc[selection]\n",
    "\n",
    "interact(f, selection=lineup_widget.LineUpWidget(df));"
   ]
  },
  {
   "cell_type": "code",
   "execution_count": 6,
   "metadata": {},
   "outputs": [
    {
     "data": {
      "application/vnd.jupyter.widget-view+json": {
       "model_id": "e6765f437be34555a2065695c2345300",
       "version_major": 2,
       "version_minor": 0
      },
      "text/plain": [
       "TaggleWidget(value=[], layout=Layout(align_self='stretch', height='400px'), options={'filterGlobally': True, '…"
      ]
     },
     "metadata": {},
     "output_type": "display_data"
    }
   ],
   "source": [
    "lineup_widget.TaggleWidget(df)"
   ]
  },
  {
   "cell_type": "code",
   "execution_count": null,
   "metadata": {},
   "outputs": [],
   "source": []
  }
 ],
 "metadata": {
  "kernelspec": {
   "display_name": "Python 3",
   "language": "python",
   "name": "python3"
  },
  "language_info": {
   "codemirror_mode": {
    "name": "ipython",
    "version": 3
   },
   "file_extension": ".py",
   "mimetype": "text/x-python",
   "name": "python",
   "nbconvert_exporter": "python",
   "pygments_lexer": "ipython3",
   "version": "3.6.5"
  }
 },
 "nbformat": 4,
 "nbformat_minor": 2
}
